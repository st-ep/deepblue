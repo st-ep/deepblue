{
 "cells": [
  {
   "cell_type": "code",
   "execution_count": 97,
   "id": "6c6ac1dc",
   "metadata": {},
   "outputs": [],
   "source": [
    "import numpy as np\n",
    "import pandas as pd\n",
    "import matplotlib.pyplot as plt\n",
    "import seaborn as sns\n",
    "\n",
    "import warnings\n",
    "warnings.filterwarnings('ignore')\n",
    "import matplotlib.colors as plt_colors\n",
    "from mpl_toolkits.axes_grid1 import make_axes_locatable\n",
    "from numpy import nan\n",
    "from numpy import isnan\n",
    "\n",
    "from numpy import mean\n",
    "from numpy import std\n",
    "from pandas import read_csv\n",
    "from sklearn.impute import KNNImputer\n",
    "from sklearn.impute import SimpleImputer\n",
    "from sklearn.model_selection import cross_val_score\n",
    "from sklearn.model_selection import RepeatedStratifiedKFold\n",
    "from sklearn.pipeline import Pipeline\n",
    "\n",
    "from sklearn.preprocessing import LabelEncoder\n",
    "from sklearn.experimental import enable_iterative_imputer\n",
    "from sklearn.impute import IterativeImputer\n",
    "from sklearn.ensemble import RandomForestRegressor, RandomForestClassifier\n",
    "\n",
    "from sklearn.model_selection import train_test_split                # train and test split\n",
    "from sklearn.metrics import mean_squared_error, r2_score            # specific measures to check our models\n",
    "from sklearn import linear_model"
   ]
  },
  {
   "cell_type": "code",
   "execution_count": 98,
   "id": "e16145d9",
   "metadata": {},
   "outputs": [],
   "source": [
    "#df = pd.read_csv('TrainData_with_recovered_estimated_time.csv')\n",
    "df_time = pd.read_csv('TrainData_recovered_forest_main.csv')\n",
    "df = pd.read_csv('TrainData_with_recovered_estimated_time.csv')\n",
    "df_clean['Estimated Average Stage Time'] = df_time['Estimated Average Stage Time']\n",
    "df_clean = df.drop('Actual Average Stage Time', axis=1)\n",
    "#df_dropped = df.drop(df.columns.difference(['Estimated Average Stage Time','Ambient Temperature', 'Grid', 'Diesel', 'CNG']), 1, inplace=True)\n",
    "#df_clean = df.loc[:, df.columns.intersection(['Estimated Average Stage Time','Ambient Temperature', 'Grid', 'Diesel', 'CNG'])]"
   ]
  },
  {
   "cell_type": "code",
   "execution_count": 99,
   "id": "947f1b64",
   "metadata": {},
   "outputs": [],
   "source": [
    "n = len(df_clean.columns)\n",
    "X = df_clean.loc[:,(df_clean.columns != \"Grid\") & (df_clean.columns != \"Diesel\") & (df_clean.columns != \"CNG\")].to_numpy()\n",
    "y = df_clean.iloc[:,2:5].to_numpy()"
   ]
  },
  {
   "cell_type": "code",
   "execution_count": 100,
   "id": "c6294b35",
   "metadata": {},
   "outputs": [
    {
     "data": {
      "text/plain": [
       "Text(0.5, 0, 'Relative Importance')"
      ]
     },
     "execution_count": 100,
     "metadata": {},
     "output_type": "execute_result"
    },
    {
     "data": {
      "image/png": "iVBORw0KGgoAAAANSUhEUgAAAwcAAAHFCAYAAACn54XZAAAAOXRFWHRTb2Z0d2FyZQBNYXRwbG90bGliIHZlcnNpb24zLjcuMSwgaHR0cHM6Ly9tYXRwbG90bGliLm9yZy/bCgiHAAAACXBIWXMAAA9hAAAPYQGoP6dpAAEAAElEQVR4nOzdd1gUV78H8O/SF5YmIKKgYAFBVARLBBWIURQlGBsqKKixF+yGWMDescVKaCFEMQn6JqhYAUUUFMXGioAiRLGiYAEVOPcPsnMZdoHFEtvv8zzz3Hdmz8ycmeGaPTvnnK+AMcZACCGEEEII+eIpfOgKEEIIIYQQQj4O1DgghBBCCCGEAKDGASGEEEIIIeRf1DgghBBCCCGEAKDGASGEEEIIIeRf1DgghBBCCCGEAKDGASGEEEIIIeRf1DgghBBCCCGEAKDGASGEEEIIIeRf1DgghBDy2QgLC4NAIJC5zJo1672cMz09HQEBAcjJyXkvx38bOTk5EAgEWLt27YeuyhtLSkpCQEAAnjx58qGrQsgXQelDV4AQQgh510JDQ9GyZUvetoYNG76Xc6Wnp2PRokVwcnKCqanpeznHlywpKQmLFi2Cj48PdHR0PnR1CPnsUeOAEELIZ8fa2hrt27f/0NV4K69fv4ZAIICS0pf5n+ri4mKoqal96GoQ8sWhbkWEEEK+OFFRUejcuTM0NDQgEong4uKCCxcu8MqcO3cOQ4YMgampKYRCIUxNTTF06FDcunWLKxMWFoZBgwYBAJydnbkuTGFhYQAAU1NT+Pj4SJ3fyckJTk5O3Hp8fDwEAgEiIiIwc+ZMNGrUCKqqqsjKygIAHD16FN27d4eWlhbU1dXh4OCAY8eOvdG1S7peHT9+HGPGjIGenh60tLQwYsQIPH/+HHfv3sXgwYOho6MDIyMjzJo1C69fv+b2l3RVWr16NZYtW4bGjRtDTU0N7du3l1mnxMREdO/eHZqamlBXV4e9vT32798vs06HDx/GqFGjYGBgAHV1dfj5+WH27NkAADMzM+7+xsfHA6h4jj179oSRkRGEQiEsLS3xww8/4Pnz57zj+/j4QCQSISsrC66urhCJRDAxMcHMmTPx8uVLXtmXL19i8eLFsLS0hJqaGvT09ODs7IykpCSuDGMMW7duhY2NDYRCIXR1dTFw4EDcuHHjjZ4JIR8TahwQQgj57JSVlaG0tJS3SCxfvhxDhw6FlZUV9uzZg4iICDx9+hRdu3ZFeno6Vy4nJwcWFhbYsGEDDh06hFWrViE/Px8dOnTAw4cPAQB9+vTB8uXLAQBbtmzB6dOncfr0afTp0+eN6u3n54fc3Fxs374df//9N+rXr49ff/0VPXv2hJaWFsLDw7Fnzx7Uq1cPLi4ub9xAAIDvv/8e2tra2L17N+bPn4/ffvsNY8aMQZ8+fdC2bVv88ccf8Pb2xrp167B582ap/X/66SfExsZiw4YN+PXXX6GgoIDevXvj9OnTXJmEhAR8/fXXKCwsRHBwMHbt2gVNTU24ubkhKipK6pijRo2CsrIyIiIi8Mcff2DChAmYMmUKACA6Opq7v7a2tgCAzMxMuLq6Ijg4GLGxsZg2bRr27NkDNzc3qWO/fv0a3377Lbp3747//e9/GDVqFNavX49Vq1ZxZUpLS9G7d28sWbIEffv2xd69exEWFgZ7e3vk5uZy5caNG4dp06bhm2++wb59+7B161ZcvXoV9vb2uHfv3hs/E0I+CowQQgj5TISGhjIAMpfXr1+z3NxcpqSkxKZMmcLb7+nTp6xBgwZs8ODB1R67tLSUPXv2jGloaLCNGzdy23///XcGgMXFxUnt06RJE+bt7S213dHRkTk6OnLrcXFxDADr1q0br9zz589ZvXr1mJubG297WVkZa9u2LevYsWMNd4OxmzdvMgBszZo13DbJPap6D/r168cAsMDAQN52GxsbZmtrK3XMhg0bsuLiYm57UVERq1evHvvmm2+4bV999RWrX78+e/r0KbettLSUWVtbM2NjY1ZeXs6r04gRI6SuYc2aNQwAu3nzZo3XWl5ezl6/fs0SEhIYAHbx4kXuM29vbwaA7dmzh7ePq6srs7Cw4NZ/+eUXBoAFBQVVe57Tp08zAGzdunW87Xl5eUwoFLI5c+bUWE9CPnb05oAQQshn55dffsHZs2d5i5KSEg4dOoTS0lKMGDGC91ZBTU0Njo6OXHcVAHj27Bnmzp2L5s2bQ0lJCUpKShCJRHj+/DnEYvF7qfeAAQN460lJSSgoKIC3tzevvuXl5ejVqxfOnj0r1YVGXn379uWtW1paAoDUWw9LS0teVyqJ/v3788YESN4InDhxAmVlZXj+/DmSk5MxcOBAiEQirpyioiKGDx+Of/75BxkZGTVef21u3LiBYcOGoUGDBlBUVISysjIcHR0BQOoZCQQCqTcKbdq04V3bwYMHoaamhlGjRlV7zpiYGAgEAnh5efGeSYMGDdC2bVve3xAhn6Ivc5QTIYSQz5qlpaXMAcmSLh8dOnSQuZ+Cwv//ZjZs2DAcO3YMCxYsQIcOHaClpQWBQABXV1cUFxe/l3obGRnJrO/AgQOr3aegoAAaGhp1Ple9evV46yoqKtVuLykpkdq/QYMGMre9evUKz549w9OnT8EYk7om4P9njnr06BFvu6yy1Xn27Bm6du0KNTU1LF26FObm5lBXV0deXh769+8v9YzU1dWlBjirqqryru3Bgwdo2LAh7++gqnv37oExBkNDQ5mfN23aVO5rIORjRI0DQgghXwx9fX0AwB9//IEmTZpUW66wsBAxMTHw9/fHDz/8wG1/+fIlCgoK5D6fmpqa1IBXAHj48CFXl8oEAoHM+m7evBlfffWVzHNU9yX1fbt7967MbSoqKhCJRFBSUoKCggLy8/Olyt25cwcApO5B1euvyfHjx3Hnzh3Ex8dzbwsAvFUegoGBARITE1FeXl5tA0FfXx8CgQAnT56Eqqqq1OeythHyKaHGASGEkC+Gi4sLlJSUkJ2dXWMXFoFAAMaY1Be9n3/+GWVlZbxtkjKy3iaYmpri0qVLvG3Xr19HRkaGzMZBVQ4ODtDR0UF6ejomT55ca/n/UnR0NNasWcP9Gv/06VP8/fff6Nq1KxQVFaGhoYFOnTohOjoaa9euhVAoBACUl5fj119/hbGxMczNzWs9T3X3V9KQqPqMduzY8cbX1Lt3b+zatQthYWHVdi3q27cvVq5cidu3b2Pw4MFvfC5CPlbUOCCEEPLFMDU1xeLFizFv3jzcuHEDvXr1gq6uLu7du4eUlBRoaGhg0aJF0NLSQrdu3bBmzRro6+vD1NQUCQkJCA4Olgrisra2BgDs3LkTmpqaUFNTg5mZGfT09DB8+HB4eXlh4sSJGDBgAG7duoXVq1fDwMBArvqKRCJs3rwZ3t7eKCgowMCBA1G/fn08ePAAFy9exIMHD7Bt27Z3fZvkoqioiB49emDGjBkoLy/HqlWrUFRUhEWLFnFlVqxYgR49esDZ2RmzZs2CiooKtm7diitXrmDXrl1yvSlo3bo1AGDjxo3w9vaGsrIyLCwsYG9vD11dXYwfPx7+/v5QVlZGZGQkLl68+MbXNHToUISGhmL8+PHIyMiAs7MzysvLkZycDEtLSwwZMgQODg4YO3YsRo4ciXPnzqFbt27Q0NBAfn4+EhMT0bp1a0yYMOGN60DIh0YDkgkhhHxR/Pz88Mcff+D69evw9vaGi4sL5syZg1u3bqFbt25cud9++w3Ozs6YM2cO+vfvj3PnzuHIkSPQ1tbmHc/MzAwbNmzAxYsX4eTkhA4dOuDvv/8GUDFuYfXq1Th06BD69u2Lbdu2Ydu2bXL9Yi7h5eWFuLg4PHv2DOPGjcM333wDX19fnD9/Ht27d383N+UNTJ48GT169MDUqVMxbNgwlJaWYv/+/XBwcODKODo64vjx49DQ0ICPjw+GDBmCwsJC/PXXX/Dw8JDrPE5OTvDz88Pff/+NLl26oEOHDkhNTYWenh72798PdXV1eHl5YdSoURCJRDKnSJWXkpISDhw4AD8/P+zduxfu7u4YMWIEEhMTed3QduzYgZ9++gknTpzAkCFD0KdPHyxcuBDPnz9Hx44d3/j8hHwMBIwx9qErQQghhJBPQ05ODszMzLBmzRrMmjXrQ1eHEPKO0ZsDQgghhBBCCABqHBBCCCGEEEL+Rd2KCCGEEEIIIQDozQEhhBBCCCHkX9Q4IIQQQgghhACgxgEhhBBCCCHkXxSCRgipk/Lycty5cweamppyBRgRQggh5MNjjOHp06do2LAhFBSqfz9AjQNCSJ3cuXMHJiYmH7oahBBCCHkDeXl5MDY2rvZzahwQQupEU1MTQMU/LlpaWh+4NoQQQgiRR1FREUxMTLj/jleHGgeEkDqRdCXS0tKixgEhhBDyiamtSzANSCaEEEIIIYQAoMYBIYQQQggh5F/UOCCEEEIIIYQAoMYBIYQQQggh5F/UOCCEEEIIIYQAoMYBIYQQQggh5F/UOCCEEEIIIYQAoMYBIYQQQggh5F/UOCCEEEIIIYQAoMYBIYQQQggh5F/UOCCEEEIIIYQAoMYBIYQQQggh5F/UOPhCODk5Ydq0aXKXDwsLg46OTo1lAgICYGNj81b1+ph97tdHCCGEEFIVNQ4+Iz4+PhAIBFJLVlYWoqOjsWTJkg9Wt549e0JRURFnzpz5YHWQCAsLk3mfKi/x8fHv/Lw5OTm1njcgIOCdn5cQQgghRF5KH7oC5N3q1asXQkNDedsMDAygqKj4gWoE5Obm4vTp05g8eTKCg4Px1Vdf1Vj+1atXUFFReW/18fDwQK9evbj1/v37w9raGosXL+a21atX7503EExMTJCfn8+tr127FrGxsTh69Ci3TSQSvdNz1gVjDGVlZVBSku+fBW3t91whQggh5AvD2IeuAb05+OyoqqqiQYMGvEVRUVGqW9GrV68wZ84cNGrUCBoaGujUqVOtX4ZXrlwJQ0NDaGpqYvTo0SgpKZGrTqGhoejbty8mTJiAqKgoPH/+nPe5k5MTJk+ejBkzZkBfXx89evQAAKSnp8PV1RUikQiGhoYYPnw4Hj58yO0XGxuLLl26QEdHB3p6eujbty+ys7NrrY9QKOTdHxUVFairq0ttk4iIiICpqSm0tbUxZMgQPH36lPuMMYbVq1ejadOmEAqFaNu2Lf744w+Z51VUVOSdQyQSQUlJiVuvX78+AgMDYWxsDFVVVdjY2CA2Npbbf8CAAZgyZQq3Pm3aNAgEAly9ehUAUFpaCk1NTRw6dEiuusXHx0MgEODQoUNo3749VFVVcfLkyVrvHyGEEEI+X9Q4+EKNHDkSp06dwu7du3Hp0iUMGjQIvXr1QmZmpszye/bsgb+/P5YtW4Zz587ByMgIW7durfU8jDGEhobCy8sLLVu2hLm5Ofbs2SNVLjw8HEpKSjh16hR27NiB/Px8ODo6wsbGBufOnUNsbCzu3buHwYMHc/s8f/4cM2bMwNmzZ3Hs2DEoKCjgu+++Q3l5+ZvfmCqys7Oxb98+xMTEICYmBgkJCVi5ciX3+fz58xEaGopt27bh6tWrmD59Ory8vJCQkFDnc23cuBHr1q3D2rVrcenSJbi4uODbb7/lnomTkxOvAZeQkAB9fX3uXGfPnkVJSQkcHBzqVLc5c+ZgxYoVEIvFaNOmjVS9Xr58iaKiIt5CCCGEkM8UI58Nb29vpqioyDQ0NLhl4MCBjDHGHB0dma+vL2OMsaysLCYQCNjt27d5+3fv3p35+fkxxhgLDQ1l2tra3GedO3dm48eP55Xv1KkTa9u2bY11Onz4MDMwMGCvX79mjDG2fv165uDgwCvj6OjIbGxseNsWLFjAevbsyduWl5fHALCMjAyZ57p//z4DwC5fvlxjnaqqfG8q8/f3Z+rq6qyoqIjbNnv2bNapUyfGGGPPnj1jampqLCkpibff6NGj2dChQ2s9r7+/P+/+NWzYkC1btoxXpkOHDmzixImMMcYuXbrEBAIBe/DgASsoKGDKysps6dKlbNCgQYwxxpYvX16nusXFxTEAbN++fbXWE4CMpZBVvAClhRZaaKGFFlrexfI+FRYWMgCssLCwxnI05uAz4+zsjG3btnHrGhoaUmXOnz8PxhjMzc1521++fAk9PT2ZxxWLxRg/fjxvW+fOnREXF1djfYKDg+Hh4cH1Yx86dChmz56NjIwMWFhYcOXat2/P2y81NRVxcXEy++BnZ2fD3Nwc2dnZWLBgAc6cOYOHDx9ybwxyc3NhbW1dY73kZWpqCk1NTW7dyMgI9+/fB1DR7amkpITrBiXx6tUrtGvXrk7nKSoqwp07d7hf/SUcHBxw8eJFAIC1tTX09PSQkJAAZWVltG3bFt9++y02bdoEoKKbkKOjY53rVvXeV+Xn54cZM2bw6mpiYlKn6yOEEELIp4EaB58ZDQ0NNG/evMYy5eXlUFRURGpqqtRA5Xc5ILagoAD79u3D69eveQ2WsrIyhISEYNWqVbx6V62jm5sbr4yEkZERAMDNzQ0mJiYICgpCw4YNUV5eDmtra7x69eqdXYOysjJvXSAQcI0Qyf/dv38/GjVqxCunqqr6RucTCAS8dcYYt00gEKBbt26Ij4+HiooKnJycYG1tjbKyMly+fBlJSUncuJK61E1WA7Jq+Te9HkIIIYR8Wqhx8AVq164dysrKcP/+fXTt2lWufSwtLXHmzBmMGDGC21bbtKSRkZEwNjbGvn37eNuPHTuGFStWYNmyZdXOjGNra4s///wTpqamMss8evQIYrEYO3bs4K4hMTFRrmt5V6ysrKCqqorc3FzuF/s3paWlhYYNGyIxMRHdunXjticlJaFjx47cupOTE3bu3AkVFRUsXrwYAoEAXbt2xdq1a1FcXMy9eXiXdSOEEELIl4MaB5+R2NjYWn8FBgBzc3N4enqif//+ePHiBa5cuYKHDx/i+PHjaN26NVxdXbmyAQEB2LdvH/z8/ODt7Y327dujS5cuiIyMxNWrV9G0adNqzxMcHIyBAwdKdfFp0qQJ5s6di/3798Pd3V3mvpMmTUJQUBDXDUlfXx9ZWVnYvXs3goKCoKurCz09PezcuRNGRkbIzc3FDz/8IOedejc0NTUxa9YsTJ8+HTt27IBQKMTq1auRlJQEkUgEb2/vOh1v9uzZ8Pf3R7NmzWBjY4PQ0FCkpaUhMjKSK+Pk5ARfX18oKSlxjSInJyfMnDkTtra20NLSkqpbeXk5unTpgqKiIpl1mzhxIl68eCHViKtNYSHw7+kIIYQQ8pmg2Yo+MTUFnTk7O8PS0lKu44SGhsLe3h7FxcWwsLDAt99+i+Tk5Gr7knt4eGDhwoWYO3cu7OzscOvWLUyYMIFXpnLQWWpqKi5evIgBAwZIHUtTUxM9e/ZEcHBwtfVr2LAhTp06hbKyMri4uMDa2hq+vr7Q1taGgoICFBQUsHv3bqSmpsLa2hrTp0/HmjVruP3fV9BZQUEBbt26hbS0NADAkiVLsHDhQly+fBnHjh2Di4sL/v77b5iZmdX52Hv37kVRURGGDBmCli1bYv369Rg2bBivAWZtbQ19fX20bduWawg4OjqirKxM6g2BpG4rVqyApaXlW9WNEEIIIV8GAWOMfehKEPn5+Pjg3r177yToLCwsDNOmTcOTJ0+qLSN5cyD5Mlyd3NxctGrVCqNGjcKLFy8QFBRUY/n3HXRWXFyMwsJCbr26oLO61OHVq1e4c+cOzMzMcOHCBdjY2HCf+fj44MmTJ3X+9b0yJycnmJubY/HixSgpKUFMTAymTp2KFStWYO7cuW983NrUte5FRUXQ1tYGUAiAXh0QQvjoWwUhHyfJf78LCwu5HxhloTcHnyAKOnv7oLMhQ4Zgzpw5vH369esHHx8fbt3U1BRLly6Fj48PtLW1MWbMGO5X93bt2kEgEMDJyUnm+RmTPxytMkkdTU1NMXnyZHTv3p370v748WOMGDECurq6UFdXR+/evXm5FGFhYdDR0cGhQ4dgaWkJkUiEXr168VKZy8rKMGPGDO5+zpkzB/T7ACGEEEIkqHHwGfuSg86WL18OkUjELSdPnsTWrVshEonQu3fvWq9JYs2aNbC2tkZqaioWLFiAlJQUAMDRo0eRn5+P6Ohomfu9q3A0oVCI169fA6j4hf/cuXP466+/cPr0aTDG4Orqyn0OAC9evMDatWsRERGBEydOIDc3F7NmzeI+X7duHUJCQhAcHIzExEQUFBRg7969NdaBQtAIIYSQL8j7jVsg7xoFnckXdPbo0SOWmZnJLR07dmTe3t4sMzOT/fPPPzKDz9zd3Zm3tze33qRJE9avXz9emZs3bzIA7MKFC7zt3t7ezN3dnTH25uFoletUVlbGDh48yFRUVNicOXPY9evXGQB26tQprvzDhw+ZUChke/bsYYxVPE8ALCsriyuzZcsWZmhoyK0bGRmxlStXcuuvX79mxsbGXN1loRA0WmihpS4LIeTjRCFonzEKOqs96KxevXqoV68ety4UCqGjo1NrBkRVtQWEyfI24Whbt27Fzz//zGU1DB8+HP7+/jh69CiUlJTQqVMnrqyenh4sLCwgFou5berq6mjWrBm3Xjm0rbCwEPn5+ejcuTP3uZKSEtq3bw/GWLV1ohA0Qggh5MtBjYNPEAWdvX3QmYKCgtQX4srdc6qrszzeJhzN09MT8+bNg6qqKho2bMg9u+q+vDPGeMFpskLbavriLw8KQSOEEEK+HNQ4+ExR0FnNDAwMpAbqXrlyBc7OzjXuJ5ndqKysrNoybxNApq2tLbPhZ2VlhdLSUiQnJ8Pe3h5Axf25fv263NPXamtrw8jICGfOnOGC1kpLS5GamgpbW9s61ZMQQgghnycakFyJZLaXT0l1dZYEnY0YMQLR0dG4efMmzp49i1WrVuHAgQMyj+Xr64uQkBCEhITg+vXr8Pf3x9WrV2s8f+Wgs8rLqFGj8OTJE+zfv7/afSdNmoSCggIMHToUKSkpuHHjBg4fPoxRo0ahrKyMF3SWlZWF48eP87q3vI2vv/4a+/fvx/79+3Ht2jVMnDixxildJerXrw+hUMgNnq48XapE5QCy8PBwZGdn48KFC9iyZQvCw8PfqL4tWrSAnp4e3NzckJiYiIsXL8LLywuNGjWqNkhOFl9fX6xcuRJ79+6t03XLUlj4oXs200ILLR/jQgj5tH2yjYPqwsB69eol1/6mpqbYsGEDb5uHhweuX7/+HmrL9181QkJDQzFixAjMnDkTFhYWcHR0xA8//IArV67ILC9P0FllHzrorCbPnz/H3Llz0bRpU6ipqeHUqVP4448/EBMTAwAYNWoUFBQUMHjwYDg6OsLMzKzWtwZARR/9TZs2YceOHWjYsGG1X8zrEkAWHx8PgUCAhIQEbNy4UebfdVhYGFJSUtCzZ0/07dsXnTt3BmMMBw4ckOpKVJOZM2dixIgR8PHxQefOnaGpqYnvvvtO7v0JIYQQ8nn7ZEPQqgsDU1VVha6ubq37m5qaYtq0abxcgP+KPOFj7/pYL168gJGRESZMmIDU1FQcOXLkrc9dk/cdclab4cOHIyUlBevXr4eVlRUePXqEpKQkaGlpwdvbG8CH/Ruo7NWrVygoKODWfX19UVRUxPvb1tbWhlAo/BDVk/IphqB9mv/KEUIIIe/OFxGCJisMrHLDICAgAI0bN+YGd06dOhVARSDXrVu3MH36dO6XWUD6F/2AgADY2NggJCQEjRs3hkgkwoQJE1BWVobVq1ejQYMGqF+/PpYtW8arV2BgIFq3bg0NDQ2YmJhg4sSJePbsGYCKX4lHjhyJwsJC7twBAQEA5AstCwsLQ+PGjaGuro7vvvsOjx49kute/f7777CysoKfnx9OnTqFnJwcAEBGRgYEAgGuXbsmdQ2mpqaQtB1rCyur